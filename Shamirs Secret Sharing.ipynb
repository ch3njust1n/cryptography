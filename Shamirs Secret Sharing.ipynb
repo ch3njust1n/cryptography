{
 "cells": [
  {
   "cell_type": "markdown",
   "id": "5d8d743a",
   "metadata": {},
   "source": [
    "# Sharmir's Secret Sharing\n",
    "\n",
    "This notebook walks through how to add secret values under [Shamir's Secret Sharing](https://en.wikipedia.org/wiki/Shamir%27s_secret_sharing)."
   ]
  },
  {
   "cell_type": "code",
   "execution_count": 1,
   "id": "7b07b5b2",
   "metadata": {},
   "outputs": [],
   "source": [
    "import time\n",
    "import random\n",
    "from math import ceil\n",
    "from decimal import Decimal\n",
    "from typing import List, Tuple\n",
    "from IPython.display import HTML\n",
    "\n",
    "import random\n",
    "from sympy import Symbol, Poly\n",
    "import pandas as pd\n",
    "\n",
    "# Use a large prime as the modulus for arithmetic operations\n",
    "# the prime must be larger than all secrets that will be added\n",
    "prime: int = 180252380737439\n",
    "threshold: int = 5\n",
    "secret1: int = 123\n",
    "secret2: int = 210"
   ]
  },
  {
   "cell_type": "markdown",
   "id": "9c87d99b",
   "metadata": {},
   "source": [
    "### Sample one random polynomial per secret\n",
    "\n",
    "If using this as a base reference for another implementation and you are debugging, make `sample_shamir_polynomial` ***deterministic***!\n",
    "\n",
    "`sample_shamir_polynomial` is the one source of randomness in Shamir's Secret Sharing algorithm, assuming the secrets and prime are fixed.\n",
    "\n",
    "Example of making `sample_shamir_polynomial` deterministic:\n",
    "```python\n",
    "def sample_shamir_polynomial(zero_value: int) -> List[int]:\n",
    "    coefs = [zero_value] + [prime-1 for _ in range(threshold - 1)]\n",
    "    return coefs\n",
    "```\n",
    "\n",
    "All parties use the same prime and same threshold"
   ]
  },
  {
   "cell_type": "code",
   "execution_count": 16,
   "id": "fe6916c1",
   "metadata": {},
   "outputs": [],
   "source": [
    "'''\n",
    "Generate a Shamir polynomial with a given zero_value.\n",
    "'''\n",
    "def sample_shamir_polynomial(zero_value: int) -> List[int]:\n",
    "    coefs = [zero_value] + [random.randrange(prime) for _ in range(threshold - 1)]\n",
    "    return coefs"
   ]
  },
  {
   "cell_type": "code",
   "execution_count": 3,
   "id": "6f149c40",
   "metadata": {},
   "outputs": [],
   "source": [
    "'''\n",
    "Evaluate the polynomial at a given point using the provided coefficients.\n",
    "'''\n",
    "def evaluate_at_point(coefs: List[int], point: int) -> int:\n",
    "    result = 0\n",
    "    for coef in reversed(coefs):\n",
    "        result = (coef + point * result) % prime\n",
    "    return result"
   ]
  },
  {
   "cell_type": "code",
   "execution_count": 4,
   "id": "a55a8076",
   "metadata": {},
   "outputs": [],
   "source": [
    "'''\n",
    "Perform polynomial interpolation at a given point using Lagrange interpolation.\n",
    "'''\n",
    "def interpolate_at_point(points_values: List[Tuple[int, int]], query_x_axis: int) -> int:\n",
    "    x_vals, y_vals = zip(*points_values)\n",
    "    constants = lagrange_constants_for_point(x_vals, query_x_axis)\n",
    "    return sum(ci * vi for ci, vi in zip(constants, y_vals)) % prime"
   ]
  },
  {
   "cell_type": "code",
   "execution_count": 5,
   "id": "e67629b8",
   "metadata": {},
   "outputs": [],
   "source": [
    "'''\n",
    "Calculate Lagrange constants for the provided points and a target point.\n",
    "'''\n",
    "def lagrange_constants_for_point(points: List[int], query_x_axis: int) -> List[int]:\n",
    "    constants = [0] * len(points)\n",
    "    for i in range(len(points)):\n",
    "        xi = points[i]\n",
    "        num = 1\n",
    "        denum = 1\n",
    "        for j in range(len(points)):\n",
    "            if j != i:\n",
    "                xj = points[j]\n",
    "                num = (num * (xj - query_x_axis)) % prime\n",
    "                denum = (denum * (xj - xi)) % prime\n",
    "        constants[i] = (num * pow(denum, -1, prime)) % prime\n",
    "    return constants"
   ]
  },
  {
   "cell_type": "code",
   "execution_count": 6,
   "id": "477653ec",
   "metadata": {},
   "outputs": [],
   "source": [
    "'''\n",
    "Split a secret into a list of shares.\n",
    "'''\n",
    "def shamir_share(secret: int, num_shares: int) -> List[Tuple[int, int]]:\n",
    "    polynomial = sample_shamir_polynomial(secret)\n",
    "    shares = [(i, evaluate_at_point(polynomial, i)) for i in range(1, num_shares + 1)]\n",
    "    return shares, polynomial"
   ]
  },
  {
   "cell_type": "code",
   "execution_count": 7,
   "id": "3be3c7b1",
   "metadata": {},
   "outputs": [],
   "source": [
    "'''\n",
    "Reconstruct the secret from a list of shares.\n",
    "'''\n",
    "def shamir_reconstruct(shares: List[Tuple[int, int]], query_x_axis: int = 0) -> int:\n",
    "    polynomial = [(p, v) for p, v in shares]\n",
    "    secret = interpolate_at_point(polynomial, query_x_axis)\n",
    "    return secret"
   ]
  },
  {
   "cell_type": "markdown",
   "id": "2ef85e58",
   "metadata": {},
   "source": [
    "### Secret shares\n",
    "\n",
    "**Split `secret1` and `secret2` into secret shares.**"
   ]
  },
  {
   "cell_type": "code",
   "execution_count": 8,
   "id": "0e78c15a",
   "metadata": {},
   "outputs": [
    {
     "name": "stdout",
     "output_type": "stream",
     "text": [
      "secret shares for 123\n"
     ]
    },
    {
     "data": {
      "text/html": [
       "<table border=\"1\" class=\"dataframe\">\n",
       "  <thead>\n",
       "    <tr style=\"text-align: right;\">\n",
       "      <th>x-value</th>\n",
       "      <th>y-value</th>\n",
       "    </tr>\n",
       "  </thead>\n",
       "  <tbody>\n",
       "    <tr>\n",
       "      <td>1</td>\n",
       "      <td>17882412767735</td>\n",
       "    </tr>\n",
       "    <tr>\n",
       "      <td>2</td>\n",
       "      <td>35676158534000</td>\n",
       "    </tr>\n",
       "    <tr>\n",
       "      <td>3</td>\n",
       "      <td>3284102599291</td>\n",
       "    </tr>\n",
       "    <tr>\n",
       "      <td>4</td>\n",
       "      <td>79252649270719</td>\n",
       "    </tr>\n",
       "    <tr>\n",
       "      <td>5</td>\n",
       "      <td>90014599649816</td>\n",
       "    </tr>\n",
       "    <tr>\n",
       "      <td>6</td>\n",
       "      <td>70646293844852</td>\n",
       "    </tr>\n",
       "    <tr>\n",
       "      <td>7</td>\n",
       "      <td>84615230233396</td>\n",
       "    </tr>\n",
       "    <tr>\n",
       "      <td>8</td>\n",
       "      <td>43527684724877</td>\n",
       "    </tr>\n",
       "    <tr>\n",
       "      <td>9</td>\n",
       "      <td>67633472235462</td>\n",
       "    </tr>\n",
       "    <tr>\n",
       "      <td>10</td>\n",
       "      <td>125321185213178</td>\n",
       "    </tr>\n",
       "  </tbody>\n",
       "</table>"
      ],
      "text/plain": [
       "<IPython.core.display.HTML object>"
      ]
     },
     "execution_count": 8,
     "metadata": {},
     "output_type": "execute_result"
    }
   ],
   "source": [
    "print(f'secret shares for {secret1}')\n",
    "shares1, coeff1 = shamir_share(secret1, 10)\n",
    "df = pd.DataFrame(shares1, columns=['x-value', 'y-value'])\n",
    "HTML(df.to_html(index=False))"
   ]
  },
  {
   "cell_type": "code",
   "execution_count": 9,
   "id": "b1cc6720",
   "metadata": {},
   "outputs": [
    {
     "name": "stdout",
     "output_type": "stream",
     "text": [
      "secret shares for 210\n"
     ]
    },
    {
     "data": {
      "text/html": [
       "<table border=\"1\" class=\"dataframe\">\n",
       "  <thead>\n",
       "    <tr style=\"text-align: right;\">\n",
       "      <th>x-value</th>\n",
       "      <th>y-value</th>\n",
       "    </tr>\n",
       "  </thead>\n",
       "  <tbody>\n",
       "    <tr>\n",
       "      <td>1</td>\n",
       "      <td>135579145190108</td>\n",
       "    </tr>\n",
       "    <tr>\n",
       "      <td>2</td>\n",
       "      <td>59457270332684</td>\n",
       "    </tr>\n",
       "    <tr>\n",
       "      <td>3</td>\n",
       "      <td>101821006798703</td>\n",
       "    </tr>\n",
       "    <tr>\n",
       "      <td>4</td>\n",
       "      <td>148928217998398</td>\n",
       "    </tr>\n",
       "    <tr>\n",
       "      <td>5</td>\n",
       "      <td>3612760856348</td>\n",
       "    </tr>\n",
       "    <tr>\n",
       "      <td>6</td>\n",
       "      <td>106294008761234</td>\n",
       "    </tr>\n",
       "    <tr>\n",
       "      <td>7</td>\n",
       "      <td>92957805666327</td>\n",
       "    </tr>\n",
       "    <tr>\n",
       "      <td>8</td>\n",
       "      <td>56923131251561</td>\n",
       "    </tr>\n",
       "    <tr>\n",
       "      <td>9</td>\n",
       "      <td>8084958711216</td>\n",
       "    </tr>\n",
       "    <tr>\n",
       "      <td>10</td>\n",
       "      <td>53166635491357</td>\n",
       "    </tr>\n",
       "  </tbody>\n",
       "</table>"
      ],
      "text/plain": [
       "<IPython.core.display.HTML object>"
      ]
     },
     "execution_count": 9,
     "metadata": {},
     "output_type": "execute_result"
    }
   ],
   "source": [
    "print(f'secret shares for {secret2}')\n",
    "shares2, coeff2 = shamir_share(secret2, 10)\n",
    "df = pd.DataFrame(shares2, columns=['x-value', 'y-value'])\n",
    "HTML(df.to_html(index=False))"
   ]
  },
  {
   "cell_type": "markdown",
   "id": "9b3f4011",
   "metadata": {},
   "source": [
    "**To convince ourselves that the secret shares can be used to recover the secret, let's reconstruct the secret.**"
   ]
  },
  {
   "cell_type": "code",
   "execution_count": 10,
   "id": "6dca85fe",
   "metadata": {},
   "outputs": [
    {
     "name": "stdout",
     "output_type": "stream",
     "text": [
      "reconstructed secret 1: 123\n",
      "reconstructed secret 2: 210\n"
     ]
    }
   ],
   "source": [
    "print(f'reconstructed secret 1: {shamir_reconstruct(shares1, 0)}')\n",
    "print(f'reconstructed secret 2: {shamir_reconstruct(shares2, 0)}')"
   ]
  },
  {
   "cell_type": "markdown",
   "id": "6fd0e41d",
   "metadata": {},
   "source": [
    "### Add the secrets together under Shamir's\n",
    "\n",
    "**Adding the secret shares together also adds the original secrets together**"
   ]
  },
  {
   "cell_type": "code",
   "execution_count": 11,
   "id": "ac682c8d",
   "metadata": {},
   "outputs": [],
   "source": [
    "def shamir_add(x, y):\n",
    "    return [ (i+1, (xi[1] + yi[1]) % prime) for i, (xi, yi) in enumerate(list(zip(x, y))) ]"
   ]
  },
  {
   "cell_type": "code",
   "execution_count": 12,
   "id": "b6062a66",
   "metadata": {},
   "outputs": [],
   "source": [
    "added = shamir_add(shares1, shares2)"
   ]
  },
  {
   "cell_type": "markdown",
   "id": "0d688f2f",
   "metadata": {},
   "source": [
    "### Coefficients of added polynomials under Shamir's"
   ]
  },
  {
   "cell_type": "code",
   "execution_count": 13,
   "id": "5d327ef6",
   "metadata": {},
   "outputs": [
    {
     "data": {
      "text/html": [
       "<table border=\"1\" class=\"dataframe\">\n",
       "  <thead>\n",
       "    <tr style=\"text-align: right;\">\n",
       "      <th>x-value</th>\n",
       "      <th>y-value</th>\n",
       "    </tr>\n",
       "  </thead>\n",
       "  <tbody>\n",
       "    <tr>\n",
       "      <td>1</td>\n",
       "      <td>153461557957843</td>\n",
       "    </tr>\n",
       "    <tr>\n",
       "      <td>2</td>\n",
       "      <td>95133428866684</td>\n",
       "    </tr>\n",
       "    <tr>\n",
       "      <td>3</td>\n",
       "      <td>105105109397994</td>\n",
       "    </tr>\n",
       "    <tr>\n",
       "      <td>4</td>\n",
       "      <td>47928486531678</td>\n",
       "    </tr>\n",
       "    <tr>\n",
       "      <td>5</td>\n",
       "      <td>93627360506164</td>\n",
       "    </tr>\n",
       "    <tr>\n",
       "      <td>6</td>\n",
       "      <td>176940302606086</td>\n",
       "    </tr>\n",
       "    <tr>\n",
       "      <td>7</td>\n",
       "      <td>177573035899723</td>\n",
       "    </tr>\n",
       "    <tr>\n",
       "      <td>8</td>\n",
       "      <td>100450815976438</td>\n",
       "    </tr>\n",
       "    <tr>\n",
       "      <td>9</td>\n",
       "      <td>75718430946678</td>\n",
       "    </tr>\n",
       "    <tr>\n",
       "      <td>10</td>\n",
       "      <td>178487820704535</td>\n",
       "    </tr>\n",
       "  </tbody>\n",
       "</table>"
      ],
      "text/plain": [
       "<IPython.core.display.HTML object>"
      ]
     },
     "execution_count": 13,
     "metadata": {},
     "output_type": "execute_result"
    }
   ],
   "source": [
    "df = pd.DataFrame(added, columns=['x-value', 'y-value'])\n",
    "HTML(df.to_html(index=False))"
   ]
  },
  {
   "cell_type": "markdown",
   "id": "b1612a6b",
   "metadata": {},
   "source": [
    "### Coefficients of added points under Shamir's\n",
    "\n",
    "**Use these coefficients to reconstruct the secret which lies at x=0**"
   ]
  },
  {
   "cell_type": "code",
   "execution_count": 14,
   "id": "01c2b96b",
   "metadata": {},
   "outputs": [
    {
     "data": {
      "text/html": [
       "<table border=\"1\" class=\"dataframe\">\n",
       "  <thead>\n",
       "    <tr style=\"text-align: right;\">\n",
       "      <th>degree</th>\n",
       "      <th>coefficient</th>\n",
       "    </tr>\n",
       "  </thead>\n",
       "  <tbody>\n",
       "    <tr>\n",
       "      <td>0</td>\n",
       "      <td>333</td>\n",
       "    </tr>\n",
       "    <tr>\n",
       "      <td>1</td>\n",
       "      <td>153461557957843</td>\n",
       "    </tr>\n",
       "    <tr>\n",
       "      <td>2</td>\n",
       "      <td>95133428866684</td>\n",
       "    </tr>\n",
       "    <tr>\n",
       "      <td>3</td>\n",
       "      <td>105105109397994</td>\n",
       "    </tr>\n",
       "    <tr>\n",
       "      <td>4</td>\n",
       "      <td>47928486531678</td>\n",
       "    </tr>\n",
       "    <tr>\n",
       "      <td>5</td>\n",
       "      <td>93627360506164</td>\n",
       "    </tr>\n",
       "    <tr>\n",
       "      <td>6</td>\n",
       "      <td>176940302606086</td>\n",
       "    </tr>\n",
       "    <tr>\n",
       "      <td>7</td>\n",
       "      <td>177573035899723</td>\n",
       "    </tr>\n",
       "    <tr>\n",
       "      <td>8</td>\n",
       "      <td>100450815976438</td>\n",
       "    </tr>\n",
       "    <tr>\n",
       "      <td>9</td>\n",
       "      <td>75718430946678</td>\n",
       "    </tr>\n",
       "    <tr>\n",
       "      <td>10</td>\n",
       "      <td>178487820704535</td>\n",
       "    </tr>\n",
       "  </tbody>\n",
       "</table>"
      ],
      "text/plain": [
       "<IPython.core.display.HTML object>"
      ]
     },
     "execution_count": 14,
     "metadata": {},
     "output_type": "execute_result"
    }
   ],
   "source": [
    "coefficients = [(i, shamir_reconstruct(added, i)) for i in range(len(added)+1)]\n",
    "df = pd.DataFrame(coefficients, columns=['degree', 'coefficient'])\n",
    "HTML(df.to_html(index=False))"
   ]
  },
  {
   "cell_type": "markdown",
   "id": "b8a1d315",
   "metadata": {},
   "source": [
    "### Recover the secret at x=0"
   ]
  },
  {
   "cell_type": "code",
   "execution_count": 15,
   "id": "f0df7339",
   "metadata": {},
   "outputs": [
    {
     "name": "stdout",
     "output_type": "stream",
     "text": [
      "secret: 333\n"
     ]
    }
   ],
   "source": [
    "print(f'secret: {shamir_reconstruct(added, 0)}')"
   ]
  }
 ],
 "metadata": {
  "kernelspec": {
   "display_name": "Python 3 (ipykernel)",
   "language": "python",
   "name": "python3"
  },
  "language_info": {
   "codemirror_mode": {
    "name": "ipython",
    "version": 3
   },
   "file_extension": ".py",
   "mimetype": "text/x-python",
   "name": "python",
   "nbconvert_exporter": "python",
   "pygments_lexer": "ipython3",
   "version": "3.11.0rc2"
  }
 },
 "nbformat": 4,
 "nbformat_minor": 5
}
