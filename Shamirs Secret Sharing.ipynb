{
 "cells": [
  {
   "cell_type": "code",
   "execution_count": 1,
   "id": "7b07b5b2",
   "metadata": {},
   "outputs": [],
   "source": [
    "import time\n",
    "import random\n",
    "from math import ceil\n",
    "from decimal import Decimal\n",
    "from typing import List, Tuple\n",
    "\n",
    "import random\n",
    "from sympy import Symbol, Poly\n",
    "\n",
    "\n",
    "# Use a large prime as the modulus for arithmetic operations\n",
    "prime: int = 15485867\n",
    "threshold: int = 5\n",
    "secret1: int = 1234\n",
    "secret2: int = 4321"
   ]
  },
  {
   "cell_type": "code",
   "execution_count": 2,
   "id": "fe6916c1",
   "metadata": {},
   "outputs": [],
   "source": [
    "# Client-side\n",
    "# All parties use the same prime and same threshold\n",
    "def sample_shamir_polynomial(zero_value: int) -> List[int]:\n",
    "    coefs = [zero_value] + [random.randrange(prime) for _ in range(threshold - 1)]\n",
    "    return coefs"
   ]
  },
  {
   "cell_type": "code",
   "execution_count": 3,
   "id": "6f149c40",
   "metadata": {},
   "outputs": [],
   "source": [
    "# Client-side\n",
    "def evaluate_at_point(coefs: List[int], point: int) -> int:\n",
    "    result = 0\n",
    "    for coef in reversed(coefs):\n",
    "        result = (coef + point * result) % prime\n",
    "    return result"
   ]
  },
  {
   "cell_type": "code",
   "execution_count": 4,
   "id": "a55a8076",
   "metadata": {},
   "outputs": [],
   "source": [
    "# Server-side\n",
    "def interpolate_at_point(points_values: List[Tuple[int, int]], point: int) -> int:\n",
    "    points, values = zip(*points_values)\n",
    "    constants = lagrange_constants_for_point(points, point)\n",
    "    return sum(ci * vi for ci, vi in zip(constants, values)) % prime"
   ]
  },
  {
   "cell_type": "code",
   "execution_count": 5,
   "id": "e67629b8",
   "metadata": {},
   "outputs": [],
   "source": [
    "# Server-side\n",
    "def lagrange_constants_for_point(points: List[int], point: int) -> List[int]:\n",
    "    constants = [0] * len(points)\n",
    "    for i in range(len(points)):\n",
    "        xi = points[i]\n",
    "        num = 1\n",
    "        denum = 1\n",
    "        for j in range(len(points)):\n",
    "            if j != i:\n",
    "                xj = points[j]\n",
    "                num = (num * (xj - point)) % prime\n",
    "                denum = (denum * (xj - xi)) % prime\n",
    "        constants[i] = (num * pow(denum, -1, prime)) % prime\n",
    "    return constants"
   ]
  },
  {
   "cell_type": "code",
   "execution_count": 6,
   "id": "477653ec",
   "metadata": {},
   "outputs": [],
   "source": [
    "# Client-side\n",
    "def shamir_share(secret: int, num_shares: int) -> List[Tuple[int, int]]:\n",
    "    polynomial = sample_shamir_polynomial(secret)\n",
    "    print(polynomial)\n",
    "    shares = [(i, evaluate_at_point(polynomial, i)) for i in range(1, num_shares + 1)]\n",
    "    return shares"
   ]
  },
  {
   "cell_type": "code",
   "execution_count": 7,
   "id": "0e78c15a",
   "metadata": {},
   "outputs": [
    {
     "name": "stdout",
     "output_type": "stream",
     "text": [
      "[1234, 8330410, 3058903, 4211912, 1388811]\n",
      "[4321, 5984936, 262622, 11344372, 7424688]\n"
     ]
    }
   ],
   "source": [
    "shares1 = shamir_share(secret1, 10)\n",
    "shares2 = shamir_share(secret2, 10)"
   ]
  },
  {
   "cell_type": "code",
   "execution_count": 8,
   "id": "ac682c8d",
   "metadata": {},
   "outputs": [],
   "source": [
    "# Server-side\n",
    "def shamir_add(x, y):\n",
    "    return [ (i+1, (xi[1] + yi[1]) % prime) for i, (xi, yi) in enumerate(list(zip(x, y))) ]"
   ]
  },
  {
   "cell_type": "code",
   "execution_count": 9,
   "id": "b6062a66",
   "metadata": {},
   "outputs": [],
   "source": [
    "added = shamir_add(shares1, shares2)"
   ]
  },
  {
   "cell_type": "code",
   "execution_count": 10,
   "id": "bcf39a39",
   "metadata": {},
   "outputs": [],
   "source": [
    "# Server-side\n",
    "def shamir_reconstruct(shares: List[Tuple[int, int]]) -> int:\n",
    "    polynomial = [(p, v) for p, v in shares]\n",
    "    secret = interpolate_at_point(polynomial, 0)\n",
    "    return secret"
   ]
  },
  {
   "cell_type": "code",
   "execution_count": 11,
   "id": "01c2b96b",
   "metadata": {},
   "outputs": [
    {
     "data": {
      "text/plain": [
       "5555"
      ]
     },
     "execution_count": 11,
     "metadata": {},
     "output_type": "execute_result"
    }
   ],
   "source": [
    "shamir_reconstruct(added)"
   ]
  }
 ],
 "metadata": {
  "kernelspec": {
   "display_name": "Python 3 (ipykernel)",
   "language": "python",
   "name": "python3"
  },
  "language_info": {
   "codemirror_mode": {
    "name": "ipython",
    "version": 3
   },
   "file_extension": ".py",
   "mimetype": "text/x-python",
   "name": "python",
   "nbconvert_exporter": "python",
   "pygments_lexer": "ipython3",
   "version": "3.11.0rc2"
  }
 },
 "nbformat": 4,
 "nbformat_minor": 5
}
